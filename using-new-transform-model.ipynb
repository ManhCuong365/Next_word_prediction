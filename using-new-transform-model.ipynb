{
 "cells": [
  {
   "cell_type": "code",
   "execution_count": 1,
   "id": "47abbc1d",
   "metadata": {
    "_cell_guid": "b1076dfc-b9ad-4769-8c92-a6c4dae69d19",
    "_uuid": "8f2839f25d086af736a60e9eeb907d3b93b6e0e5",
    "execution": {
     "iopub.execute_input": "2024-12-11T01:39:30.447762Z",
     "iopub.status.busy": "2024-12-11T01:39:30.447384Z",
     "iopub.status.idle": "2024-12-11T01:39:31.301494Z",
     "shell.execute_reply": "2024-12-11T01:39:31.300387Z"
    },
    "papermill": {
     "duration": 0.860315,
     "end_time": "2024-12-11T01:39:31.304115",
     "exception": false,
     "start_time": "2024-12-11T01:39:30.443800",
     "status": "completed"
    },
    "tags": []
   },
   "outputs": [
    {
     "name": "stdout",
     "output_type": "stream",
     "text": [
      "/kaggle/input/transform/tensorflow2/default/1/model.h5\n",
      "/kaggle/input/transform/tensorflow2/default/1/tokenizer.pkl\n"
     ]
    }
   ],
   "source": [
    "import numpy as np # linear algebra\n",
    "import pandas as pd # data processing, CSV file I/O (e.g. pd.read_csv)\n",
    "\n",
    "import os\n",
    "for dirname, _, filenames in os.walk('/kaggle/input/transform/tensorflow2/default/1'):\n",
    "    for filename in filenames:\n",
    "        print(os.path.join(dirname, filename))"
   ]
  },
  {
   "cell_type": "code",
   "execution_count": 2,
   "id": "62d7ecd0",
   "metadata": {
    "execution": {
     "iopub.execute_input": "2024-12-11T01:39:31.310905Z",
     "iopub.status.busy": "2024-12-11T01:39:31.310324Z",
     "iopub.status.idle": "2024-12-11T01:39:45.190322Z",
     "shell.execute_reply": "2024-12-11T01:39:45.189277Z"
    },
    "papermill": {
     "duration": 13.885386,
     "end_time": "2024-12-11T01:39:45.192244",
     "exception": false,
     "start_time": "2024-12-11T01:39:31.306858",
     "status": "completed"
    },
    "tags": []
   },
   "outputs": [
    {
     "name": "stdout",
     "output_type": "stream",
     "text": [
      "\u001b[1m1/1\u001b[0m \u001b[32m━━━━━━━━━━━━━━━━━━━━\u001b[0m\u001b[37m\u001b[0m \u001b[1m0s\u001b[0m 219ms/step\n",
      "\u001b[1m1/1\u001b[0m \u001b[32m━━━━━━━━━━━━━━━━━━━━\u001b[0m\u001b[37m\u001b[0m \u001b[1m0s\u001b[0m 21ms/step\n",
      "\u001b[1m1/1\u001b[0m \u001b[32m━━━━━━━━━━━━━━━━━━━━\u001b[0m\u001b[37m\u001b[0m \u001b[1m0s\u001b[0m 21ms/step\n",
      "\u001b[1m1/1\u001b[0m \u001b[32m━━━━━━━━━━━━━━━━━━━━\u001b[0m\u001b[37m\u001b[0m \u001b[1m0s\u001b[0m 22ms/step\n",
      "\u001b[1m1/1\u001b[0m \u001b[32m━━━━━━━━━━━━━━━━━━━━\u001b[0m\u001b[37m\u001b[0m \u001b[1m0s\u001b[0m 21ms/step\n",
      "Next predicted words: how many people are going to\n"
     ]
    }
   ],
   "source": [
    "import tensorflow as tf\n",
    "from tensorflow.keras.models import load_model  # Import load_model\n",
    "from tensorflow.keras.preprocessing.sequence import pad_sequences\n",
    "import numpy as np\n",
    "import pickle\n",
    "\n",
    "model = load_model('/kaggle/input/transform/tensorflow2/default/1/model.h5')\n",
    "\n",
    "with open('/kaggle/input/transform/tensorflow2/default/1/tokenizer.pkl', 'rb') as handle:\n",
    "    tokenizer = pickle.load(handle)\n",
    "\n",
    "max_sequence_len = 20\n",
    "\n",
    "# Dự đoán văn bản tiếp theo\n",
    "seed_text = \"how\"\n",
    "next_words = 5\n",
    "\n",
    "for _ in range(next_words):\n",
    "    token_list = tokenizer.texts_to_sequences([seed_text])[0]\n",
    "    token_list = pad_sequences([token_list], maxlen=max_sequence_len-1, padding='pre')\n",
    "    predicted_probs = model.predict(token_list)\n",
    "    predicted_word = tokenizer.index_word[np.argmax(predicted_probs)]\n",
    "    seed_text += \" \" + predicted_word\n",
    "\n",
    "print(\"Next predicted words:\", seed_text)"
   ]
  },
  {
   "cell_type": "code",
   "execution_count": null,
   "id": "04cd4cb8",
   "metadata": {
    "papermill": {
     "duration": 0.002018,
     "end_time": "2024-12-11T01:39:45.196614",
     "exception": false,
     "start_time": "2024-12-11T01:39:45.194596",
     "status": "completed"
    },
    "tags": []
   },
   "outputs": [],
   "source": []
  }
 ],
 "metadata": {
  "kaggle": {
   "accelerator": "none",
   "dataSources": [
    {
     "isSourceIdPinned": true,
     "modelId": 188134,
     "modelInstanceId": 165796,
     "sourceId": 194493,
     "sourceType": "modelInstanceVersion"
    }
   ],
   "dockerImageVersionId": 30804,
   "isGpuEnabled": false,
   "isInternetEnabled": true,
   "language": "python",
   "sourceType": "notebook"
  },
  "kernelspec": {
   "display_name": "Python 3",
   "language": "python",
   "name": "python3"
  },
  "language_info": {
   "codemirror_mode": {
    "name": "ipython",
    "version": 3
   },
   "file_extension": ".py",
   "mimetype": "text/x-python",
   "name": "python",
   "nbconvert_exporter": "python",
   "pygments_lexer": "ipython3",
   "version": "3.10.14"
  },
  "papermill": {
   "default_parameters": {},
   "duration": 18.667563,
   "end_time": "2024-12-11T01:39:46.522563",
   "environment_variables": {},
   "exception": null,
   "input_path": "__notebook__.ipynb",
   "output_path": "__notebook__.ipynb",
   "parameters": {},
   "start_time": "2024-12-11T01:39:27.855000",
   "version": "2.6.0"
  }
 },
 "nbformat": 4,
 "nbformat_minor": 5
}
