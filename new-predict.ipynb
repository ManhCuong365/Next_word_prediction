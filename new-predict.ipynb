{
 "cells": [
  {
   "cell_type": "code",
   "execution_count": 1,
   "id": "7e72f6c1",
   "metadata": {
    "_cell_guid": "b1076dfc-b9ad-4769-8c92-a6c4dae69d19",
    "_uuid": "8f2839f25d086af736a60e9eeb907d3b93b6e0e5",
    "execution": {
     "iopub.execute_input": "2024-12-09T10:19:53.234852Z",
     "iopub.status.busy": "2024-12-09T10:19:53.233935Z",
     "iopub.status.idle": "2024-12-09T10:20:07.959572Z",
     "shell.execute_reply": "2024-12-09T10:20:07.958435Z"
    },
    "papermill": {
     "duration": 14.732408,
     "end_time": "2024-12-09T10:20:07.962034",
     "exception": false,
     "start_time": "2024-12-09T10:19:53.229626",
     "status": "completed"
    },
    "tags": []
   },
   "outputs": [],
   "source": [
    "import tensorflow as tf\n",
    "from tensorflow.keras.models import Sequential\n",
    "from tensorflow.keras.layers import Embedding, LSTM, Dense\n",
    "from tensorflow.keras.preprocessing.text import Tokenizer\n",
    "from tensorflow.keras.preprocessing.sequence import pad_sequences\n",
    "import numpy as np\n",
    "import regex as re"
   ]
  },
  {
   "cell_type": "code",
   "execution_count": 2,
   "id": "f0f78a8b",
   "metadata": {
    "execution": {
     "iopub.execute_input": "2024-12-09T10:20:07.968754Z",
     "iopub.status.busy": "2024-12-09T10:20:07.967621Z",
     "iopub.status.idle": "2024-12-09T10:20:09.735958Z",
     "shell.execute_reply": "2024-12-09T10:20:09.734224Z"
    },
    "papermill": {
     "duration": 1.77437,
     "end_time": "2024-12-09T10:20:09.738729",
     "exception": false,
     "start_time": "2024-12-09T10:20:07.964359",
     "status": "completed"
    },
    "tags": []
   },
   "outputs": [],
   "source": [
    "def file_to_sentence_list(file_path):\n",
    "    with open(file_path, 'r') as file:\n",
    "        text = file.read()\n",
    "\n",
    "    sentences = [sentence.strip() for sentence in re.split(\n",
    "        r'(?<=[.!?])\\s+', text) if sentence.strip()]\n",
    "\n",
    "    return sentences\n",
    "\n",
    "file_path = '/kaggle/input/dataset1/disk1.txt'\n",
    "text_data = file_to_sentence_list(file_path)\n",
    "\n",
    "# Tokenize the text data\n",
    "tokenizer = Tokenizer()\n",
    "tokenizer.fit_on_texts(text_data)\n",
    "total_words = len(tokenizer.word_index) + 1\n",
    "\n",
    "# Create input sequences\n",
    "input_sequences = []\n",
    "for line in text_data:\n",
    "    token_list = tokenizer.texts_to_sequences([line])[0]\n",
    "    for i in range(1, len(token_list)):\n",
    "        n_gram_sequence = token_list[:i+1]\n",
    "        input_sequences.append(n_gram_sequence)\n",
    "\n",
    "max_sequence_len = max([len(seq) for seq in input_sequences])\n",
    "input_sequences = np.array(pad_sequences(\n",
    "    input_sequences, maxlen=max_sequence_len, padding='pre'))\n",
    "X, y = input_sequences[:, :-1], input_sequences[:, -1]\n",
    "\n",
    "y = tf.keras.utils.to_categorical(y, num_classes=total_words)"
   ]
  },
  {
   "cell_type": "code",
   "execution_count": 3,
   "id": "1f686bae",
   "metadata": {
    "execution": {
     "iopub.execute_input": "2024-12-09T10:20:09.745123Z",
     "iopub.status.busy": "2024-12-09T10:20:09.744300Z",
     "iopub.status.idle": "2024-12-09T10:20:09.813739Z",
     "shell.execute_reply": "2024-12-09T10:20:09.812479Z"
    },
    "papermill": {
     "duration": 0.075648,
     "end_time": "2024-12-09T10:20:09.816606",
     "exception": false,
     "start_time": "2024-12-09T10:20:09.740958",
     "status": "completed"
    },
    "tags": []
   },
   "outputs": [
    {
     "name": "stderr",
     "output_type": "stream",
     "text": [
      "/opt/conda/lib/python3.10/site-packages/keras/src/layers/core/embedding.py:90: UserWarning: Argument `input_length` is deprecated. Just remove it.\n",
      "  warnings.warn(\n"
     ]
    }
   ],
   "source": [
    "model = Sequential()\n",
    "model.add(Embedding(total_words, 10,\n",
    "                    input_length=max_sequence_len-1))\n",
    "model.add(LSTM(128))\n",
    "model.add(Dense(total_words, activation='softmax'))\n",
    "model.compile(loss='categorical_crossentropy',\n",
    "              optimizer='adam', metrics=['accuracy'])"
   ]
  },
  {
   "cell_type": "code",
   "execution_count": 4,
   "id": "0f3370de",
   "metadata": {
    "execution": {
     "iopub.execute_input": "2024-12-09T10:20:09.822629Z",
     "iopub.status.busy": "2024-12-09T10:20:09.822222Z",
     "iopub.status.idle": "2024-12-09T17:58:15.644224Z",
     "shell.execute_reply": "2024-12-09T17:58:15.642233Z"
    },
    "papermill": {
     "duration": 27495.776721,
     "end_time": "2024-12-09T17:58:25.595625",
     "exception": false,
     "start_time": "2024-12-09T10:20:09.818904",
     "status": "completed"
    },
    "tags": []
   },
   "outputs": [
    {
     "name": "stdout",
     "output_type": "stream",
     "text": [
      "Epoch 1/50\n",
      "\u001b[1m4191/4191\u001b[0m \u001b[32m━━━━━━━━━━━━━━━━━━━━\u001b[0m\u001b[37m\u001b[0m \u001b[1m528s\u001b[0m 125ms/step - accuracy: 0.0342 - loss: 7.5810\n",
      "Epoch 2/50\n",
      "\u001b[1m4191/4191\u001b[0m \u001b[32m━━━━━━━━━━━━━━━━━━━━\u001b[0m\u001b[37m\u001b[0m \u001b[1m546s\u001b[0m 130ms/step - accuracy: 0.0521 - loss: 6.9089\n",
      "Epoch 3/50\n",
      "\u001b[1m4191/4191\u001b[0m \u001b[32m━━━━━━━━━━━━━━━━━━━━\u001b[0m\u001b[37m\u001b[0m \u001b[1m549s\u001b[0m 131ms/step - accuracy: 0.0698 - loss: 6.5445\n",
      "Epoch 4/50\n",
      "\u001b[1m4191/4191\u001b[0m \u001b[32m━━━━━━━━━━━━━━━━━━━━\u001b[0m\u001b[37m\u001b[0m \u001b[1m545s\u001b[0m 130ms/step - accuracy: 0.0876 - loss: 6.2484\n",
      "Epoch 5/50\n",
      "\u001b[1m4191/4191\u001b[0m \u001b[32m━━━━━━━━━━━━━━━━━━━━\u001b[0m\u001b[37m\u001b[0m \u001b[1m554s\u001b[0m 132ms/step - accuracy: 0.1007 - loss: 5.9548\n",
      "Epoch 6/50\n",
      "\u001b[1m4191/4191\u001b[0m \u001b[32m━━━━━━━━━━━━━━━━━━━━\u001b[0m\u001b[37m\u001b[0m \u001b[1m545s\u001b[0m 128ms/step - accuracy: 0.1076 - loss: 5.6832\n",
      "Epoch 7/50\n",
      "\u001b[1m4191/4191\u001b[0m \u001b[32m━━━━━━━━━━━━━━━━━━━━\u001b[0m\u001b[37m\u001b[0m \u001b[1m561s\u001b[0m 128ms/step - accuracy: 0.1189 - loss: 5.4079\n",
      "Epoch 8/50\n",
      "\u001b[1m4191/4191\u001b[0m \u001b[32m━━━━━━━━━━━━━━━━━━━━\u001b[0m\u001b[37m\u001b[0m \u001b[1m567s\u001b[0m 129ms/step - accuracy: 0.1328 - loss: 5.1468\n",
      "Epoch 9/50\n",
      "\u001b[1m4191/4191\u001b[0m \u001b[32m━━━━━━━━━━━━━━━━━━━━\u001b[0m\u001b[37m\u001b[0m \u001b[1m547s\u001b[0m 130ms/step - accuracy: 0.1524 - loss: 4.9039\n",
      "Epoch 10/50\n",
      "\u001b[1m4191/4191\u001b[0m \u001b[32m━━━━━━━━━━━━━━━━━━━━\u001b[0m\u001b[37m\u001b[0m \u001b[1m538s\u001b[0m 128ms/step - accuracy: 0.1734 - loss: 4.6805\n",
      "Epoch 11/50\n",
      "\u001b[1m4191/4191\u001b[0m \u001b[32m━━━━━━━━━━━━━━━━━━━━\u001b[0m\u001b[37m\u001b[0m \u001b[1m538s\u001b[0m 128ms/step - accuracy: 0.1939 - loss: 4.5067\n",
      "Epoch 12/50\n",
      "\u001b[1m4191/4191\u001b[0m \u001b[32m━━━━━━━━━━━━━━━━━━━━\u001b[0m\u001b[37m\u001b[0m \u001b[1m547s\u001b[0m 130ms/step - accuracy: 0.2163 - loss: 4.3251\n",
      "Epoch 13/50\n",
      "\u001b[1m4191/4191\u001b[0m \u001b[32m━━━━━━━━━━━━━━━━━━━━\u001b[0m\u001b[37m\u001b[0m \u001b[1m540s\u001b[0m 129ms/step - accuracy: 0.2331 - loss: 4.1858\n",
      "Epoch 14/50\n",
      "\u001b[1m4191/4191\u001b[0m \u001b[32m━━━━━━━━━━━━━━━━━━━━\u001b[0m\u001b[37m\u001b[0m \u001b[1m551s\u001b[0m 132ms/step - accuracy: 0.2515 - loss: 4.0422\n",
      "Epoch 15/50\n",
      "\u001b[1m4191/4191\u001b[0m \u001b[32m━━━━━━━━━━━━━━━━━━━━\u001b[0m\u001b[37m\u001b[0m \u001b[1m560s\u001b[0m 134ms/step - accuracy: 0.2674 - loss: 3.9119\n",
      "Epoch 16/50\n",
      "\u001b[1m4191/4191\u001b[0m \u001b[32m━━━━━━━━━━━━━━━━━━━━\u001b[0m\u001b[37m\u001b[0m \u001b[1m547s\u001b[0m 130ms/step - accuracy: 0.2842 - loss: 3.8059\n",
      "Epoch 17/50\n",
      "\u001b[1m4191/4191\u001b[0m \u001b[32m━━━━━━━━━━━━━━━━━━━━\u001b[0m\u001b[37m\u001b[0m \u001b[1m562s\u001b[0m 131ms/step - accuracy: 0.2966 - loss: 3.7192\n",
      "Epoch 18/50\n",
      "\u001b[1m4191/4191\u001b[0m \u001b[32m━━━━━━━━━━━━━━━━━━━━\u001b[0m\u001b[37m\u001b[0m \u001b[1m564s\u001b[0m 131ms/step - accuracy: 0.3088 - loss: 3.6133\n",
      "Epoch 19/50\n",
      "\u001b[1m4191/4191\u001b[0m \u001b[32m━━━━━━━━━━━━━━━━━━━━\u001b[0m\u001b[37m\u001b[0m \u001b[1m587s\u001b[0m 137ms/step - accuracy: 0.3192 - loss: 3.5372\n",
      "Epoch 20/50\n",
      "\u001b[1m4191/4191\u001b[0m \u001b[32m━━━━━━━━━━━━━━━━━━━━\u001b[0m\u001b[37m\u001b[0m \u001b[1m616s\u001b[0m 136ms/step - accuracy: 0.3311 - loss: 3.4730\n",
      "Epoch 21/50\n",
      "\u001b[1m4191/4191\u001b[0m \u001b[32m━━━━━━━━━━━━━━━━━━━━\u001b[0m\u001b[37m\u001b[0m \u001b[1m550s\u001b[0m 131ms/step - accuracy: 0.3387 - loss: 3.3994\n",
      "Epoch 22/50\n",
      "\u001b[1m4191/4191\u001b[0m \u001b[32m━━━━━━━━━━━━━━━━━━━━\u001b[0m\u001b[37m\u001b[0m \u001b[1m560s\u001b[0m 134ms/step - accuracy: 0.3514 - loss: 3.3243\n",
      "Epoch 23/50\n",
      "\u001b[1m4191/4191\u001b[0m \u001b[32m━━━━━━━━━━━━━━━━━━━━\u001b[0m\u001b[37m\u001b[0m \u001b[1m558s\u001b[0m 133ms/step - accuracy: 0.3547 - loss: 3.2838\n",
      "Epoch 24/50\n",
      "\u001b[1m4191/4191\u001b[0m \u001b[32m━━━━━━━━━━━━━━━━━━━━\u001b[0m\u001b[37m\u001b[0m \u001b[1m547s\u001b[0m 131ms/step - accuracy: 0.3646 - loss: 3.2311\n",
      "Epoch 25/50\n",
      "\u001b[1m4191/4191\u001b[0m \u001b[32m━━━━━━━━━━━━━━━━━━━━\u001b[0m\u001b[37m\u001b[0m \u001b[1m549s\u001b[0m 131ms/step - accuracy: 0.3688 - loss: 3.1934\n",
      "Epoch 26/50\n",
      "\u001b[1m4191/4191\u001b[0m \u001b[32m━━━━━━━━━━━━━━━━━━━━\u001b[0m\u001b[37m\u001b[0m \u001b[1m538s\u001b[0m 128ms/step - accuracy: 0.3750 - loss: 3.1499\n",
      "Epoch 27/50\n",
      "\u001b[1m4191/4191\u001b[0m \u001b[32m━━━━━━━━━━━━━━━━━━━━\u001b[0m\u001b[37m\u001b[0m \u001b[1m546s\u001b[0m 130ms/step - accuracy: 0.3841 - loss: 3.1042\n",
      "Epoch 28/50\n",
      "\u001b[1m4191/4191\u001b[0m \u001b[32m━━━━━━━━━━━━━━━━━━━━\u001b[0m\u001b[37m\u001b[0m \u001b[1m543s\u001b[0m 129ms/step - accuracy: 0.3867 - loss: 3.0651\n",
      "Epoch 29/50\n",
      "\u001b[1m4191/4191\u001b[0m \u001b[32m━━━━━━━━━━━━━━━━━━━━\u001b[0m\u001b[37m\u001b[0m \u001b[1m535s\u001b[0m 128ms/step - accuracy: 0.3970 - loss: 3.0094\n",
      "Epoch 30/50\n",
      "\u001b[1m4191/4191\u001b[0m \u001b[32m━━━━━━━━━━━━━━━━━━━━\u001b[0m\u001b[37m\u001b[0m \u001b[1m527s\u001b[0m 126ms/step - accuracy: 0.3995 - loss: 2.9869\n",
      "Epoch 31/50\n",
      "\u001b[1m4191/4191\u001b[0m \u001b[32m━━━━━━━━━━━━━━━━━━━━\u001b[0m\u001b[37m\u001b[0m \u001b[1m526s\u001b[0m 126ms/step - accuracy: 0.4013 - loss: 2.9682\n",
      "Epoch 32/50\n",
      "\u001b[1m4191/4191\u001b[0m \u001b[32m━━━━━━━━━━━━━━━━━━━━\u001b[0m\u001b[37m\u001b[0m \u001b[1m526s\u001b[0m 125ms/step - accuracy: 0.4074 - loss: 2.9347\n",
      "Epoch 33/50\n",
      "\u001b[1m4191/4191\u001b[0m \u001b[32m━━━━━━━━━━━━━━━━━━━━\u001b[0m\u001b[37m\u001b[0m \u001b[1m531s\u001b[0m 127ms/step - accuracy: 0.4102 - loss: 2.9090\n",
      "Epoch 34/50\n",
      "\u001b[1m4191/4191\u001b[0m \u001b[32m━━━━━━━━━━━━━━━━━━━━\u001b[0m\u001b[37m\u001b[0m \u001b[1m575s\u001b[0m 130ms/step - accuracy: 0.4188 - loss: 2.8683\n",
      "Epoch 35/50\n",
      "\u001b[1m4191/4191\u001b[0m \u001b[32m━━━━━━━━━━━━━━━━━━━━\u001b[0m\u001b[37m\u001b[0m \u001b[1m551s\u001b[0m 131ms/step - accuracy: 0.4182 - loss: 2.8546\n",
      "Epoch 36/50\n",
      "\u001b[1m4191/4191\u001b[0m \u001b[32m━━━━━━━━━━━━━━━━━━━━\u001b[0m\u001b[37m\u001b[0m \u001b[1m545s\u001b[0m 127ms/step - accuracy: 0.4209 - loss: 2.8389\n",
      "Epoch 37/50\n",
      "\u001b[1m4191/4191\u001b[0m \u001b[32m━━━━━━━━━━━━━━━━━━━━\u001b[0m\u001b[37m\u001b[0m \u001b[1m539s\u001b[0m 129ms/step - accuracy: 0.4279 - loss: 2.8044\n",
      "Epoch 38/50\n",
      "\u001b[1m4191/4191\u001b[0m \u001b[32m━━━━━━━━━━━━━━━━━━━━\u001b[0m\u001b[37m\u001b[0m \u001b[1m543s\u001b[0m 130ms/step - accuracy: 0.4292 - loss: 2.7893\n",
      "Epoch 39/50\n",
      "\u001b[1m4191/4191\u001b[0m \u001b[32m━━━━━━━━━━━━━━━━━━━━\u001b[0m\u001b[37m\u001b[0m \u001b[1m561s\u001b[0m 129ms/step - accuracy: 0.4326 - loss: 2.7694\n",
      "Epoch 40/50\n",
      "\u001b[1m4191/4191\u001b[0m \u001b[32m━━━━━━━━━━━━━━━━━━━━\u001b[0m\u001b[37m\u001b[0m \u001b[1m528s\u001b[0m 126ms/step - accuracy: 0.4366 - loss: 2.7414\n",
      "Epoch 41/50\n",
      "\u001b[1m4191/4191\u001b[0m \u001b[32m━━━━━━━━━━━━━━━━━━━━\u001b[0m\u001b[37m\u001b[0m \u001b[1m540s\u001b[0m 129ms/step - accuracy: 0.4418 - loss: 2.7206\n",
      "Epoch 42/50\n",
      "\u001b[1m4191/4191\u001b[0m \u001b[32m━━━━━━━━━━━━━━━━━━━━\u001b[0m\u001b[37m\u001b[0m \u001b[1m565s\u001b[0m 130ms/step - accuracy: 0.4394 - loss: 2.7212\n",
      "Epoch 43/50\n",
      "\u001b[1m4191/4191\u001b[0m \u001b[32m━━━━━━━━━━━━━━━━━━━━\u001b[0m\u001b[37m\u001b[0m \u001b[1m542s\u001b[0m 129ms/step - accuracy: 0.4410 - loss: 2.7132\n",
      "Epoch 44/50\n",
      "\u001b[1m4191/4191\u001b[0m \u001b[32m━━━━━━━━━━━━━━━━━━━━\u001b[0m\u001b[37m\u001b[0m \u001b[1m545s\u001b[0m 130ms/step - accuracy: 0.4458 - loss: 2.6861\n",
      "Epoch 45/50\n",
      "\u001b[1m4191/4191\u001b[0m \u001b[32m━━━━━━━━━━━━━━━━━━━━\u001b[0m\u001b[37m\u001b[0m \u001b[1m542s\u001b[0m 129ms/step - accuracy: 0.4454 - loss: 2.6712\n",
      "Epoch 46/50\n",
      "\u001b[1m4191/4191\u001b[0m \u001b[32m━━━━━━━━━━━━━━━━━━━━\u001b[0m\u001b[37m\u001b[0m \u001b[1m534s\u001b[0m 127ms/step - accuracy: 0.4500 - loss: 2.6459\n",
      "Epoch 47/50\n",
      "\u001b[1m4191/4191\u001b[0m \u001b[32m━━━━━━━━━━━━━━━━━━━━\u001b[0m\u001b[37m\u001b[0m \u001b[1m568s\u001b[0m 129ms/step - accuracy: 0.4514 - loss: 2.6380\n",
      "Epoch 48/50\n",
      "\u001b[1m4191/4191\u001b[0m \u001b[32m━━━━━━━━━━━━━━━━━━━━\u001b[0m\u001b[37m\u001b[0m \u001b[1m548s\u001b[0m 131ms/step - accuracy: 0.4515 - loss: 2.6335\n",
      "Epoch 49/50\n",
      "\u001b[1m4191/4191\u001b[0m \u001b[32m━━━━━━━━━━━━━━━━━━━━\u001b[0m\u001b[37m\u001b[0m \u001b[1m553s\u001b[0m 132ms/step - accuracy: 0.4536 - loss: 2.6190\n",
      "Epoch 50/50\n",
      "\u001b[1m4191/4191\u001b[0m \u001b[32m━━━━━━━━━━━━━━━━━━━━\u001b[0m\u001b[37m\u001b[0m \u001b[1m547s\u001b[0m 130ms/step - accuracy: 0.4547 - loss: 2.6078\n"
     ]
    }
   ],
   "source": [
    "# Train\n",
    "model.fit(X, y, epochs=50, verbose=1)\n",
    "model.save('model.h5')"
   ]
  },
  {
   "cell_type": "code",
   "execution_count": 5,
   "id": "b0bcab6f",
   "metadata": {
    "execution": {
     "iopub.execute_input": "2024-12-09T17:58:51.539003Z",
     "iopub.status.busy": "2024-12-09T17:58:51.538447Z",
     "iopub.status.idle": "2024-12-09T17:58:52.379008Z",
     "shell.execute_reply": "2024-12-09T17:58:52.377809Z"
    },
    "papermill": {
     "duration": 13.800712,
     "end_time": "2024-12-09T17:58:52.381211",
     "exception": false,
     "start_time": "2024-12-09T17:58:38.580499",
     "status": "completed"
    },
    "tags": []
   },
   "outputs": [
    {
     "name": "stdout",
     "output_type": "stream",
     "text": [
      "\u001b[1m1/1\u001b[0m \u001b[32m━━━━━━━━━━━━━━━━━━━━\u001b[0m\u001b[37m\u001b[0m \u001b[1m0s\u001b[0m 303ms/step\n",
      "\u001b[1m1/1\u001b[0m \u001b[32m━━━━━━━━━━━━━━━━━━━━\u001b[0m\u001b[37m\u001b[0m \u001b[1m0s\u001b[0m 41ms/step\n",
      "\u001b[1m1/1\u001b[0m \u001b[32m━━━━━━━━━━━━━━━━━━━━\u001b[0m\u001b[37m\u001b[0m \u001b[1m0s\u001b[0m 43ms/step\n",
      "\u001b[1m1/1\u001b[0m \u001b[32m━━━━━━━━━━━━━━━━━━━━\u001b[0m\u001b[37m\u001b[0m \u001b[1m0s\u001b[0m 50ms/step\n",
      "\u001b[1m1/1\u001b[0m \u001b[32m━━━━━━━━━━━━━━━━━━━━\u001b[0m\u001b[37m\u001b[0m \u001b[1m0s\u001b[0m 41ms/step\n",
      "Next predicted words: what do you think about you\n"
     ]
    }
   ],
   "source": [
    "# Generate next word predictions\n",
    "seed_text = \"what\"\n",
    "next_words = 5\n",
    "\n",
    "for _ in range(next_words):\n",
    "    token_list = tokenizer.texts_to_sequences([seed_text])[0]\n",
    "    token_list = pad_sequences(\n",
    "        [token_list], maxlen=max_sequence_len-1, padding='pre')\n",
    "    predicted_probs = model.predict(token_list)\n",
    "    predicted_word = tokenizer.index_word[np.argmax(predicted_probs)]\n",
    "    seed_text += \" \" + predicted_word\n",
    "\n",
    "print(\"Next predicted words:\", seed_text)"
   ]
  }
 ],
 "metadata": {
  "kaggle": {
   "accelerator": "none",
   "dataSources": [
    {
     "datasetId": 6263454,
     "sourceId": 10146793,
     "sourceType": "datasetVersion"
    },
    {
     "datasetId": 6263682,
     "sourceId": 10147065,
     "sourceType": "datasetVersion"
    }
   ],
   "dockerImageVersionId": 30804,
   "isGpuEnabled": false,
   "isInternetEnabled": false,
   "language": "python",
   "sourceType": "notebook"
  },
  "kernelspec": {
   "display_name": "Python 3",
   "language": "python",
   "name": "python3"
  },
  "language_info": {
   "codemirror_mode": {
    "name": "ipython",
    "version": 3
   },
   "file_extension": ".py",
   "mimetype": "text/x-python",
   "name": "python",
   "nbconvert_exporter": "python",
   "pygments_lexer": "ipython3",
   "version": "3.12.1"
  },
  "papermill": {
   "default_parameters": {},
   "duration": 27558.249515,
   "end_time": "2024-12-09T17:59:08.822467",
   "environment_variables": {},
   "exception": null,
   "input_path": "__notebook__.ipynb",
   "output_path": "__notebook__.ipynb",
   "parameters": {},
   "start_time": "2024-12-09T10:19:50.572952",
   "version": "2.6.0"
  }
 },
 "nbformat": 4,
 "nbformat_minor": 5
}
